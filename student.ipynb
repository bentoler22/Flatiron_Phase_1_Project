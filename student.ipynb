{
 "cells": [
  {
   "cell_type": "markdown",
   "metadata": {},
   "source": [
    "# Movie Data Analysis for Microsoft\n",
    "<img src=\"./images/Microsoft_image.jpg\" alt=\"Drawing\" style=\"width: 900px;height:300px;float: left;\"/>"
   ]
  },
  {
   "cell_type": "markdown",
   "metadata": {},
   "source": [
    "# Overview\n",
    "This project uses exploratory data analysis to produce insights about what factors lead to a movie's success. Analysis of movie datasets from IMDb and The Numbers shows that production budget, genre, and release date play an important role in determining a movie's gross profit and return on investment. Microsoft can use this analysis to determine what types of movies to make, how much to invest in them, and when to release them."
   ]
  },
  {
   "cell_type": "markdown",
   "metadata": {},
   "source": [
    "# Business Problem\n",
    "Microsoft is planning on starting their own movie studio, but they are lacking industry knowledge. To guide their decision making in their new studio, they need analysis of what types of movies perform well at the box office."
   ]
  },
  {
   "cell_type": "markdown",
   "metadata": {},
   "source": [
    "# Data Understanding\n",
    "The datasets used in this analysis are from IMDb and The Numbers. They include thousands of movies and provide information about movie financials, release dates, and other movie attributes."
   ]
  },
  {
   "cell_type": "code",
   "execution_count": 59,
   "metadata": {},
   "outputs": [],
   "source": [
    "#import pandas\n",
    "import pandas as pd"
   ]
  },
  {
   "cell_type": "code",
   "execution_count": 60,
   "metadata": {},
   "outputs": [],
   "source": [
    "#import data with pandas\n",
    "imdb_titles = pd.read_csv('zippedData/imdb.title.akas.csv.gz')\n",
    "imdb_titles_basics = pd.read_csv('zippedData/imdb.title.basics.csv.gz')\n",
    "the_numbers = pd.read_csv('zippedData/tn.movie_budgets.csv.gz')"
   ]
  },
  {
   "cell_type": "markdown",
   "metadata": {},
   "source": [
    "## IMDb Datasets\n",
    "The IMDb datasets contain unique IDs for each movie, and include information on movies released from 2010 and after"
   ]
  },
  {
   "cell_type": "code",
   "execution_count": 61,
   "metadata": {
    "scrolled": true
   },
   "outputs": [
    {
     "data": {
      "text/html": [
       "<div>\n",
       "<style scoped>\n",
       "    .dataframe tbody tr th:only-of-type {\n",
       "        vertical-align: middle;\n",
       "    }\n",
       "\n",
       "    .dataframe tbody tr th {\n",
       "        vertical-align: top;\n",
       "    }\n",
       "\n",
       "    .dataframe thead th {\n",
       "        text-align: right;\n",
       "    }\n",
       "</style>\n",
       "<table border=\"1\" class=\"dataframe\">\n",
       "  <thead>\n",
       "    <tr style=\"text-align: right;\">\n",
       "      <th></th>\n",
       "      <th>title_id</th>\n",
       "      <th>ordering</th>\n",
       "      <th>title</th>\n",
       "      <th>region</th>\n",
       "      <th>language</th>\n",
       "      <th>types</th>\n",
       "      <th>attributes</th>\n",
       "      <th>is_original_title</th>\n",
       "    </tr>\n",
       "  </thead>\n",
       "  <tbody>\n",
       "    <tr>\n",
       "      <th>0</th>\n",
       "      <td>tt0369610</td>\n",
       "      <td>10</td>\n",
       "      <td>Джурасик свят</td>\n",
       "      <td>BG</td>\n",
       "      <td>bg</td>\n",
       "      <td>NaN</td>\n",
       "      <td>NaN</td>\n",
       "      <td>0.0</td>\n",
       "    </tr>\n",
       "    <tr>\n",
       "      <th>1</th>\n",
       "      <td>tt0369610</td>\n",
       "      <td>11</td>\n",
       "      <td>Jurashikku warudo</td>\n",
       "      <td>JP</td>\n",
       "      <td>NaN</td>\n",
       "      <td>imdbDisplay</td>\n",
       "      <td>NaN</td>\n",
       "      <td>0.0</td>\n",
       "    </tr>\n",
       "    <tr>\n",
       "      <th>2</th>\n",
       "      <td>tt0369610</td>\n",
       "      <td>12</td>\n",
       "      <td>Jurassic World: O Mundo dos Dinossauros</td>\n",
       "      <td>BR</td>\n",
       "      <td>NaN</td>\n",
       "      <td>imdbDisplay</td>\n",
       "      <td>NaN</td>\n",
       "      <td>0.0</td>\n",
       "    </tr>\n",
       "    <tr>\n",
       "      <th>3</th>\n",
       "      <td>tt0369610</td>\n",
       "      <td>13</td>\n",
       "      <td>O Mundo dos Dinossauros</td>\n",
       "      <td>BR</td>\n",
       "      <td>NaN</td>\n",
       "      <td>NaN</td>\n",
       "      <td>short title</td>\n",
       "      <td>0.0</td>\n",
       "    </tr>\n",
       "    <tr>\n",
       "      <th>4</th>\n",
       "      <td>tt0369610</td>\n",
       "      <td>14</td>\n",
       "      <td>Jurassic World</td>\n",
       "      <td>FR</td>\n",
       "      <td>NaN</td>\n",
       "      <td>imdbDisplay</td>\n",
       "      <td>NaN</td>\n",
       "      <td>0.0</td>\n",
       "    </tr>\n",
       "  </tbody>\n",
       "</table>\n",
       "</div>"
      ],
      "text/plain": [
       "    title_id  ordering                                    title region  \\\n",
       "0  tt0369610        10                            Джурасик свят     BG   \n",
       "1  tt0369610        11                        Jurashikku warudo     JP   \n",
       "2  tt0369610        12  Jurassic World: O Mundo dos Dinossauros     BR   \n",
       "3  tt0369610        13                  O Mundo dos Dinossauros     BR   \n",
       "4  tt0369610        14                           Jurassic World     FR   \n",
       "\n",
       "  language        types   attributes  is_original_title  \n",
       "0       bg          NaN          NaN                0.0  \n",
       "1      NaN  imdbDisplay          NaN                0.0  \n",
       "2      NaN  imdbDisplay          NaN                0.0  \n",
       "3      NaN          NaN  short title                0.0  \n",
       "4      NaN  imdbDisplay          NaN                0.0  "
      ]
     },
     "execution_count": 61,
     "metadata": {},
     "output_type": "execute_result"
    }
   ],
   "source": [
    "imdb_titles.head(5)"
   ]
  },
  {
   "cell_type": "code",
   "execution_count": 62,
   "metadata": {
    "scrolled": true
   },
   "outputs": [
    {
     "data": {
      "text/plain": [
       "US      51490\n",
       "XWW     18467\n",
       "RU      13817\n",
       "DE      11634\n",
       "FR      10990\n",
       "        ...  \n",
       "AI          1\n",
       "CF          1\n",
       "SUHH        1\n",
       "BUMM        1\n",
       "VC          1\n",
       "Name: region, Length: 213, dtype: int64"
      ]
     },
     "execution_count": 62,
     "metadata": {},
     "output_type": "execute_result"
    }
   ],
   "source": [
    "imdb_titles.region.value_counts()"
   ]
  },
  {
   "cell_type": "code",
   "execution_count": 63,
   "metadata": {
    "scrolled": false
   },
   "outputs": [
    {
     "data": {
      "text/html": [
       "<div>\n",
       "<style scoped>\n",
       "    .dataframe tbody tr th:only-of-type {\n",
       "        vertical-align: middle;\n",
       "    }\n",
       "\n",
       "    .dataframe tbody tr th {\n",
       "        vertical-align: top;\n",
       "    }\n",
       "\n",
       "    .dataframe thead th {\n",
       "        text-align: right;\n",
       "    }\n",
       "</style>\n",
       "<table border=\"1\" class=\"dataframe\">\n",
       "  <thead>\n",
       "    <tr style=\"text-align: right;\">\n",
       "      <th></th>\n",
       "      <th>tconst</th>\n",
       "      <th>primary_title</th>\n",
       "      <th>original_title</th>\n",
       "      <th>start_year</th>\n",
       "      <th>runtime_minutes</th>\n",
       "      <th>genres</th>\n",
       "    </tr>\n",
       "  </thead>\n",
       "  <tbody>\n",
       "    <tr>\n",
       "      <th>0</th>\n",
       "      <td>tt0063540</td>\n",
       "      <td>Sunghursh</td>\n",
       "      <td>Sunghursh</td>\n",
       "      <td>2013</td>\n",
       "      <td>175.0</td>\n",
       "      <td>Action,Crime,Drama</td>\n",
       "    </tr>\n",
       "    <tr>\n",
       "      <th>1</th>\n",
       "      <td>tt0066787</td>\n",
       "      <td>One Day Before the Rainy Season</td>\n",
       "      <td>Ashad Ka Ek Din</td>\n",
       "      <td>2019</td>\n",
       "      <td>114.0</td>\n",
       "      <td>Biography,Drama</td>\n",
       "    </tr>\n",
       "    <tr>\n",
       "      <th>2</th>\n",
       "      <td>tt0069049</td>\n",
       "      <td>The Other Side of the Wind</td>\n",
       "      <td>The Other Side of the Wind</td>\n",
       "      <td>2018</td>\n",
       "      <td>122.0</td>\n",
       "      <td>Drama</td>\n",
       "    </tr>\n",
       "    <tr>\n",
       "      <th>3</th>\n",
       "      <td>tt0069204</td>\n",
       "      <td>Sabse Bada Sukh</td>\n",
       "      <td>Sabse Bada Sukh</td>\n",
       "      <td>2018</td>\n",
       "      <td>NaN</td>\n",
       "      <td>Comedy,Drama</td>\n",
       "    </tr>\n",
       "    <tr>\n",
       "      <th>4</th>\n",
       "      <td>tt0100275</td>\n",
       "      <td>The Wandering Soap Opera</td>\n",
       "      <td>La Telenovela Errante</td>\n",
       "      <td>2017</td>\n",
       "      <td>80.0</td>\n",
       "      <td>Comedy,Drama,Fantasy</td>\n",
       "    </tr>\n",
       "  </tbody>\n",
       "</table>\n",
       "</div>"
      ],
      "text/plain": [
       "      tconst                    primary_title              original_title  \\\n",
       "0  tt0063540                        Sunghursh                   Sunghursh   \n",
       "1  tt0066787  One Day Before the Rainy Season             Ashad Ka Ek Din   \n",
       "2  tt0069049       The Other Side of the Wind  The Other Side of the Wind   \n",
       "3  tt0069204                  Sabse Bada Sukh             Sabse Bada Sukh   \n",
       "4  tt0100275         The Wandering Soap Opera       La Telenovela Errante   \n",
       "\n",
       "   start_year  runtime_minutes                genres  \n",
       "0        2013            175.0    Action,Crime,Drama  \n",
       "1        2019            114.0       Biography,Drama  \n",
       "2        2018            122.0                 Drama  \n",
       "3        2018              NaN          Comedy,Drama  \n",
       "4        2017             80.0  Comedy,Drama,Fantasy  "
      ]
     },
     "execution_count": 63,
     "metadata": {},
     "output_type": "execute_result"
    }
   ],
   "source": [
    "imdb_titles_basics.head(5)"
   ]
  },
  {
   "cell_type": "code",
   "execution_count": 64,
   "metadata": {
    "scrolled": false
   },
   "outputs": [
    {
     "name": "stdout",
     "output_type": "stream",
     "text": [
      "<class 'pandas.core.frame.DataFrame'>\n",
      "RangeIndex: 146144 entries, 0 to 146143\n",
      "Data columns (total 6 columns):\n",
      " #   Column           Non-Null Count   Dtype  \n",
      "---  ------           --------------   -----  \n",
      " 0   tconst           146144 non-null  object \n",
      " 1   primary_title    146144 non-null  object \n",
      " 2   original_title   146123 non-null  object \n",
      " 3   start_year       146144 non-null  int64  \n",
      " 4   runtime_minutes  114405 non-null  float64\n",
      " 5   genres           140736 non-null  object \n",
      "dtypes: float64(1), int64(1), object(4)\n",
      "memory usage: 6.7+ MB\n"
     ]
    }
   ],
   "source": [
    "imdb_titles_basics.info()"
   ]
  },
  {
   "cell_type": "markdown",
   "metadata": {},
   "source": [
    "## The Numbers Dataset\n",
    "The Numbers dataset provides information on movie finances and release dates. The dataset includes movies between the year 1915 and 2020."
   ]
  },
  {
   "cell_type": "code",
   "execution_count": 74,
   "metadata": {
    "scrolled": true
   },
   "outputs": [
    {
     "data": {
      "text/html": [
       "<div>\n",
       "<style scoped>\n",
       "    .dataframe tbody tr th:only-of-type {\n",
       "        vertical-align: middle;\n",
       "    }\n",
       "\n",
       "    .dataframe tbody tr th {\n",
       "        vertical-align: top;\n",
       "    }\n",
       "\n",
       "    .dataframe thead th {\n",
       "        text-align: right;\n",
       "    }\n",
       "</style>\n",
       "<table border=\"1\" class=\"dataframe\">\n",
       "  <thead>\n",
       "    <tr style=\"text-align: right;\">\n",
       "      <th></th>\n",
       "      <th>movie</th>\n",
       "      <th>production_budget</th>\n",
       "      <th>domestic_gross</th>\n",
       "      <th>worldwide_gross</th>\n",
       "      <th>start_year</th>\n",
       "      <th>start_month</th>\n",
       "    </tr>\n",
       "  </thead>\n",
       "  <tbody>\n",
       "    <tr>\n",
       "      <th>0</th>\n",
       "      <td>Avatar</td>\n",
       "      <td>425000000.0</td>\n",
       "      <td>760507625.0</td>\n",
       "      <td>2.776345e+09</td>\n",
       "      <td>2009</td>\n",
       "      <td>Dec</td>\n",
       "    </tr>\n",
       "    <tr>\n",
       "      <th>1</th>\n",
       "      <td>Pirates of the Caribbean: On Stranger Tides</td>\n",
       "      <td>410600000.0</td>\n",
       "      <td>241063875.0</td>\n",
       "      <td>1.045664e+09</td>\n",
       "      <td>2011</td>\n",
       "      <td>May</td>\n",
       "    </tr>\n",
       "    <tr>\n",
       "      <th>2</th>\n",
       "      <td>Dark Phoenix</td>\n",
       "      <td>350000000.0</td>\n",
       "      <td>42762350.0</td>\n",
       "      <td>1.497624e+08</td>\n",
       "      <td>2019</td>\n",
       "      <td>Jun</td>\n",
       "    </tr>\n",
       "    <tr>\n",
       "      <th>3</th>\n",
       "      <td>Avengers: Age of Ultron</td>\n",
       "      <td>330600000.0</td>\n",
       "      <td>459005868.0</td>\n",
       "      <td>1.403014e+09</td>\n",
       "      <td>2015</td>\n",
       "      <td>May</td>\n",
       "    </tr>\n",
       "    <tr>\n",
       "      <th>4</th>\n",
       "      <td>Star Wars Ep. VIII: The Last Jedi</td>\n",
       "      <td>317000000.0</td>\n",
       "      <td>620181382.0</td>\n",
       "      <td>1.316722e+09</td>\n",
       "      <td>2017</td>\n",
       "      <td>Dec</td>\n",
       "    </tr>\n",
       "  </tbody>\n",
       "</table>\n",
       "</div>"
      ],
      "text/plain": [
       "                                         movie  production_budget  \\\n",
       "0                                       Avatar        425000000.0   \n",
       "1  Pirates of the Caribbean: On Stranger Tides        410600000.0   \n",
       "2                                 Dark Phoenix        350000000.0   \n",
       "3                      Avengers: Age of Ultron        330600000.0   \n",
       "4            Star Wars Ep. VIII: The Last Jedi        317000000.0   \n",
       "\n",
       "   domestic_gross  worldwide_gross  start_year start_month  \n",
       "0     760507625.0     2.776345e+09        2009         Dec  \n",
       "1     241063875.0     1.045664e+09        2011         May  \n",
       "2      42762350.0     1.497624e+08        2019         Jun  \n",
       "3     459005868.0     1.403014e+09        2015         May  \n",
       "4     620181382.0     1.316722e+09        2017         Dec  "
      ]
     },
     "execution_count": 74,
     "metadata": {},
     "output_type": "execute_result"
    }
   ],
   "source": [
    "the_numbers.head(5)"
   ]
  },
  {
   "cell_type": "code",
   "execution_count": 75,
   "metadata": {
    "scrolled": true
   },
   "outputs": [
    {
     "name": "stdout",
     "output_type": "stream",
     "text": [
      "<class 'pandas.core.frame.DataFrame'>\n",
      "RangeIndex: 5782 entries, 0 to 5781\n",
      "Data columns (total 6 columns):\n",
      " #   Column             Non-Null Count  Dtype  \n",
      "---  ------             --------------  -----  \n",
      " 0   movie              5782 non-null   object \n",
      " 1   production_budget  5782 non-null   float64\n",
      " 2   domestic_gross     5782 non-null   float64\n",
      " 3   worldwide_gross    5782 non-null   float64\n",
      " 4   start_year         5782 non-null   int64  \n",
      " 5   start_month        5782 non-null   object \n",
      "dtypes: float64(3), int64(1), object(2)\n",
      "memory usage: 271.2+ KB\n"
     ]
    }
   ],
   "source": [
    "the_numbers.info()"
   ]
  },
  {
   "cell_type": "markdown",
   "metadata": {},
   "source": [
    "# Data Preparation"
   ]
  },
  {
   "cell_type": "markdown",
   "metadata": {},
   "source": [
    "## Data Cleaning"
   ]
  },
  {
   "cell_type": "markdown",
   "metadata": {},
   "source": [
    "For each dataset I drop unnecessary columns and rows, and I manipulate the data to usable forms"
   ]
  },
  {
   "cell_type": "code",
   "execution_count": 67,
   "metadata": {},
   "outputs": [],
   "source": [
    "#select only US films\n",
    "imdb_titles = imdb_titles[imdb_titles.region == 'US']\n",
    "\n",
    "#drop duplicate rows\n",
    "imdb_titles.drop_duplicates('title_id', inplace=True)\n",
    "\n",
    "#drop unecessary columns\n",
    "imdb_titles.drop(['ordering', 'title', 'language', 'types', 'attributes', \n",
    "                  'is_original_title'], axis=1, inplace=True)\n"
   ]
  },
  {
   "cell_type": "code",
   "execution_count": 68,
   "metadata": {
    "scrolled": false
   },
   "outputs": [],
   "source": [
    "# #drop unecessary columns\n",
    "imdb_titles_basics.drop(['original_title', 'runtime_minutes'], axis=1, inplace=True)\n",
    "\n",
    "#rename columns for consistency\n",
    "imdb_titles_basics.rename(columns={'primary_title': 'movie'}, \n",
    "                          inplace=True)\n",
    "\n",
    "#drop row where genre is NaN\n",
    "imdb_titles_basics.dropna(subset=['genres'], inplace=True)\n",
    "\n",
    "#convert string of genres into list of strings\n",
    "imdb_titles_basics['genres'] = imdb_titles_basics.genres.map(lambda x: x.split(\",\"))"
   ]
  },
  {
   "cell_type": "code",
   "execution_count": 69,
   "metadata": {},
   "outputs": [],
   "source": [
    "#convert budget and gross columsn from strings to floats\n",
    "the_numbers['domestic_gross'] = the_numbers.domestic_gross.map(lambda x: \n",
    "                                    float(x.replace('$','').replace(',','')))\n",
    "the_numbers['production_budget'] = the_numbers.production_budget.map(lambda x: \n",
    "                                    float(x.replace('$','').replace(',','')))\n",
    "the_numbers['worldwide_gross'] = the_numbers.worldwide_gross.map(lambda x: \n",
    "                                    float(x.replace('$','').replace(',','')))\n",
    "\n",
    "#seperate release date into year and month\n",
    "the_numbers['start_year'] = the_numbers.release_date.map(lambda x: int(x[-4:]))\n",
    "the_numbers['start_month'] = the_numbers.release_date.map(lambda x: x[:3])\n",
    "\n",
    "#convert year to int to match imdb dataset\n",
    "the_numbers['start_year'] = the_numbers['start_year'].map(lambda x: int(x))\n",
    "\n",
    "#drop unecessary columns\n",
    "the_numbers.drop(['id', 'release_date'], axis=1, inplace=True)"
   ]
  },
  {
   "cell_type": "markdown",
   "metadata": {},
   "source": [
    "## Merge Data\n",
    "I start by merging imdb datasets through their unique IDs(title_id/tconst)."
   ]
  },
  {
   "cell_type": "code",
   "execution_count": 76,
   "metadata": {},
   "outputs": [],
   "source": [
    "#reset the imdb_title_baiscs to tconst\n",
    "imdb_titles_basics.set_index('tconst', inplace=True)"
   ]
  },
  {
   "cell_type": "code",
   "execution_count": 80,
   "metadata": {},
   "outputs": [],
   "source": [
    "imdb_combined = imdb_titles.join(imdb_titles_basics, how='inner', \n",
    "                                          on='title_id')"
   ]
  },
  {
   "cell_type": "code",
   "execution_count": 137,
   "metadata": {
    "scrolled": false
   },
   "outputs": [
    {
     "data": {
      "text/html": [
       "<div>\n",
       "<style scoped>\n",
       "    .dataframe tbody tr th:only-of-type {\n",
       "        vertical-align: middle;\n",
       "    }\n",
       "\n",
       "    .dataframe tbody tr th {\n",
       "        vertical-align: top;\n",
       "    }\n",
       "\n",
       "    .dataframe thead th {\n",
       "        text-align: right;\n",
       "    }\n",
       "</style>\n",
       "<table border=\"1\" class=\"dataframe\">\n",
       "  <thead>\n",
       "    <tr style=\"text-align: right;\">\n",
       "      <th></th>\n",
       "      <th>title_id</th>\n",
       "      <th>region</th>\n",
       "      <th>movie</th>\n",
       "      <th>start_year</th>\n",
       "      <th>genres</th>\n",
       "    </tr>\n",
       "  </thead>\n",
       "  <tbody>\n",
       "    <tr>\n",
       "      <th>12</th>\n",
       "      <td>tt0369610</td>\n",
       "      <td>US</td>\n",
       "      <td>Jurassic World</td>\n",
       "      <td>2015</td>\n",
       "      <td>[Action, Adventure, Sci-Fi]</td>\n",
       "    </tr>\n",
       "    <tr>\n",
       "      <th>50</th>\n",
       "      <td>tt0401729</td>\n",
       "      <td>US</td>\n",
       "      <td>John Carter</td>\n",
       "      <td>2012</td>\n",
       "      <td>[Action, Adventure, Sci-Fi]</td>\n",
       "    </tr>\n",
       "    <tr>\n",
       "      <th>109</th>\n",
       "      <td>tt1014759</td>\n",
       "      <td>US</td>\n",
       "      <td>Alice in Wonderland</td>\n",
       "      <td>2010</td>\n",
       "      <td>[Adventure, Family, Fantasy]</td>\n",
       "    </tr>\n",
       "    <tr>\n",
       "      <th>152</th>\n",
       "      <td>tt10379338</td>\n",
       "      <td>US</td>\n",
       "      <td>Random Night Out</td>\n",
       "      <td>2019</td>\n",
       "      <td>[Comedy]</td>\n",
       "    </tr>\n",
       "    <tr>\n",
       "      <th>157</th>\n",
       "      <td>tt10446418</td>\n",
       "      <td>US</td>\n",
       "      <td>Icon</td>\n",
       "      <td>2011</td>\n",
       "      <td>[Documentary, History]</td>\n",
       "    </tr>\n",
       "  </tbody>\n",
       "</table>\n",
       "</div>"
      ],
      "text/plain": [
       "       title_id region                movie  start_year  \\\n",
       "12    tt0369610     US       Jurassic World        2015   \n",
       "50    tt0401729     US          John Carter        2012   \n",
       "109   tt1014759     US  Alice in Wonderland        2010   \n",
       "152  tt10379338     US     Random Night Out        2019   \n",
       "157  tt10446418     US                 Icon        2011   \n",
       "\n",
       "                           genres  \n",
       "12    [Action, Adventure, Sci-Fi]  \n",
       "50    [Action, Adventure, Sci-Fi]  \n",
       "109  [Adventure, Family, Fantasy]  \n",
       "152                      [Comedy]  \n",
       "157        [Documentary, History]  "
      ]
     },
     "execution_count": 137,
     "metadata": {},
     "output_type": "execute_result"
    }
   ],
   "source": [
    "imdb_combined.head()"
   ]
  },
  {
   "cell_type": "markdown",
   "metadata": {},
   "source": [
    "Now I merge the combined imdb dataset with the tn_budgets. Since these dataset don't have a common identifier, I merge them using the movie title and release year. The merged dataset will contain movies between 2010 and 2020."
   ]
  },
  {
   "cell_type": "code",
   "execution_count": 82,
   "metadata": {},
   "outputs": [],
   "source": [
    "movie_df = imdb_combined.merge(the_numbers, how='inner', \n",
    "                               left_on= ['movie', 'start_year'],\n",
    "                              right_on= ['movie', 'start_year'])"
   ]
  },
  {
   "cell_type": "code",
   "execution_count": 83,
   "metadata": {
    "scrolled": false
   },
   "outputs": [
    {
     "data": {
      "text/plain": [
       "Redemption                                          3\n",
       "Underdogs                                           2\n",
       "Heist                                               2\n",
       "Robin Hood                                          2\n",
       "The Family                                          2\n",
       "                                                   ..\n",
       "Home Run                                            1\n",
       "Pirates of the Caribbean: Dead Men Tell No Tales    1\n",
       "Free Birds                                          1\n",
       "Everything, Everything                              1\n",
       "Queen of Katwe                                      1\n",
       "Name: movie, Length: 1323, dtype: int64"
      ]
     },
     "execution_count": 83,
     "metadata": {},
     "output_type": "execute_result"
    }
   ],
   "source": [
    "movie_df.movie.value_counts()"
   ]
  },
  {
   "cell_type": "markdown",
   "metadata": {},
   "source": [
    "Some of the movie in our datasets have the same movie title and year despite being different movies. Because we are joining the tn_budgets dataset with the imdb data through movie title and year, any movie/year that has multiple occurrences will be given the same values from the tn_budgets dataset. There are only 33 of these occurrences, so I remove any such rows."
   ]
  },
  {
   "cell_type": "code",
   "execution_count": 85,
   "metadata": {},
   "outputs": [],
   "source": [
    "movie_df.drop_duplicates(subset='movie', keep=False, inplace=True)"
   ]
  },
  {
   "cell_type": "markdown",
   "metadata": {},
   "source": [
    "## Feature Engineering\n",
    "Using the production budget and gross profit columns, I create a new column for return on investment (ROI) to assess the efficiency of each movie investment. ROI is calculated by dividing the net return on investment by the cost of such investment."
   ]
  },
  {
   "cell_type": "code",
   "execution_count": 90,
   "metadata": {},
   "outputs": [],
   "source": [
    "#add column for return on investment in perecentage\n",
    "movie_df['ROI'] = ((movie_df.worldwide_gross - movie_df.production_budget) \n",
    "                   / movie_df.production_budget) *100"
   ]
  },
  {
   "cell_type": "markdown",
   "metadata": {},
   "source": [
    "# Analysis"
   ]
  },
  {
   "cell_type": "code",
   "execution_count": 149,
   "metadata": {},
   "outputs": [],
   "source": [
    "#import plotting library\n",
    "import matplotlib.pyplot as plt\n",
    "%matplotlib inline"
   ]
  },
  {
   "cell_type": "markdown",
   "metadata": {},
   "source": [
    "## Production Budget\n",
    "Production budget is strongly correlated with movie gross profits; however, there is no correlation between budget and ROI."
   ]
  },
  {
   "cell_type": "code",
   "execution_count": 163,
   "metadata": {},
   "outputs": [
    {
     "name": "stdout",
     "output_type": "stream",
     "text": [
      "Production Budget Correlation with Net Profit:  0.7799755853475726\n",
      "Production Budget Correlation with ROI:  -0.04410666658309808\n"
     ]
    }
   ],
   "source": [
    "#production budget correlation with gross profit and ROI\n",
    "budget_gross_corr = movie_df.production_budget.corr(movie_df.worldwide_gross)\n",
    "print(\"Production Budget Correlation with Net Profit: \", budget_gross_corr)\n",
    "\n",
    "budget_roi_corr = movie_df.production_budget.corr(movie_df.ROI)\n",
    "print(\"Production Budget Correlation with ROI: \", budget_roi_corr)"
   ]
  },
  {
   "cell_type": "code",
   "execution_count": 165,
   "metadata": {},
   "outputs": [
    {
     "data": {
      "image/png": "[encoded data removed]",
      "text/plain": [
       "<Figure size 1080x360 with 2 Axes>"
      ]
     },
     "metadata": {
      "needs_background": "light"
     },
     "output_type": "display_data"
    }
   ],
   "source": [
    "fig, (ax1, ax2) = plt.subplots(1,2, figsize=(15,5))\n",
    "\n",
    "# x-values: production budget\n",
    "x1 = movie_df.production_budget\n",
    "\n",
    "# y-values: gross profit and ROI\n",
    "y1 = movie_df.worldwide_gross\n",
    "y2 = movie_df.ROI\n",
    "\n",
    "#plot production budget vs gross profit and adjust labels\n",
    "ax1.scatter(x=x1, y=y1);\n",
    "ax1.set_xlabel('Production Budget ($)', fontsize=16);\n",
    "ax1.set_ylabel('Gross Profit ($)', fontsize=16);\n",
    "\n",
    "#plot production budget vs ROI and adjust labels\n",
    "ax2.scatter(x=x1, y=y2, c='r');\n",
    "ax2.set_xlabel('Production Budget ($)', fontsize=16);\n",
    "ax2.set_ylabel('ROI (%)', fontsize=16);\n",
    "\n",
    "#label plot with their correlations\n",
    "ax1.set_title('Corr = {}'.format(budget_gross_corr.round(3)),fontsize=18 );\n",
    "ax2.set_title('Corr = {}'.format(budget_roi_corr.round(3)),fontsize=18 );\n"
   ]
  },
  {
   "cell_type": "markdown",
   "metadata": {},
   "source": [
    "## Genre\n",
    "Animation, sci-fi, and adventure genres produce the greatest gross profit on average. Mystery and horror movies provide the best return on investment."
   ]
  },
  {
   "cell_type": "code",
   "execution_count": 110,
   "metadata": {},
   "outputs": [],
   "source": [
    "#seperate the list of genres in each row into their own rows\n",
    "genres_movie_df = movie_df.explode('genres')"
   ]
  },
  {
   "cell_type": "code",
   "execution_count": 111,
   "metadata": {},
   "outputs": [],
   "source": [
    "#group the data by genre, take the mean of the columns, and sort by gross\n",
    "genres_grouped = genres_movie_df.groupby('genres').mean().sort_values(\n",
    "    by='worldwide_gross', ascending=True)"
   ]
  },
  {
   "cell_type": "code",
   "execution_count": 150,
   "metadata": {
    "scrolled": false
   },
   "outputs": [
    {
     "data": {
      "image/png": "[encoded data removed]",
      "text/plain": [
       "<Figure size 1080x360 with 2 Axes>"
      ]
     },
     "metadata": {
      "needs_background": "light"
     },
     "output_type": "display_data"
    }
   ],
   "source": [
    "#plot a bar charts of avergae gross and ROI by genre\n",
    "fig, (ax1, ax2) = plt.subplots(1,2, figsize=(15,5))\n",
    "\n",
    "#set title for overall figure\n",
    "fig.suptitle(\"Average Gross Profit and ROI by Genre\", fontsize=18)\n",
    "\n",
    "#gross porfit bar chart\n",
    "genres_grouped.plot(ax=ax1, kind='barh', y=['worldwide_gross']);\n",
    "\n",
    "#ROI bar chart\n",
    "genres_grouped.plot(ax=ax2, kind='barh', y=['ROI'], color='g');\n",
    "\n",
    "#adjust labels and legends\n",
    "ax1.legend(['Gross Profit'], loc=4, fontsize=12);\n",
    "ax1.set_ylabel('Genres', fontsize=16);\n",
    "ax1.set_xlabel('Amount ($)', fontsize=16);\n",
    "\n",
    "ax2.legend(['ROI'], loc=4, fontsize=12);\n",
    "ax2.set_ylabel(\"\");\n",
    "ax2.set_xlabel(\"%\", fontsize=16);"
   ]
  },
  {
   "cell_type": "markdown",
   "metadata": {},
   "source": [
    "## Release Month\n",
    "The summer months from May to July and the holiday months from November to December have seen the greatest sum of profits in the last decade."
   ]
  },
  {
   "cell_type": "code",
   "execution_count": 125,
   "metadata": {},
   "outputs": [],
   "source": [
    "#group data by month and calculate the sum of the columns\n",
    "month_grouped = movie_df.groupby('start_month').sum()"
   ]
  },
  {
   "cell_type": "code",
   "execution_count": 126,
   "metadata": {
    "scrolled": false
   },
   "outputs": [
    {
     "data": {
      "text/html": [
       "<div>\n",
       "<style scoped>\n",
       "    .dataframe tbody tr th:only-of-type {\n",
       "        vertical-align: middle;\n",
       "    }\n",
       "\n",
       "    .dataframe tbody tr th {\n",
       "        vertical-align: top;\n",
       "    }\n",
       "\n",
       "    .dataframe thead th {\n",
       "        text-align: right;\n",
       "    }\n",
       "</style>\n",
       "<table border=\"1\" class=\"dataframe\">\n",
       "  <thead>\n",
       "    <tr style=\"text-align: right;\">\n",
       "      <th></th>\n",
       "      <th>start_year</th>\n",
       "      <th>production_budget</th>\n",
       "      <th>domestic_gross</th>\n",
       "      <th>worldwide_gross</th>\n",
       "      <th>ROI</th>\n",
       "    </tr>\n",
       "    <tr>\n",
       "      <th>start_month</th>\n",
       "      <th></th>\n",
       "      <th></th>\n",
       "      <th></th>\n",
       "      <th></th>\n",
       "      <th></th>\n",
       "    </tr>\n",
       "  </thead>\n",
       "  <tbody>\n",
       "    <tr>\n",
       "      <th>Apr</th>\n",
       "      <td>159084</td>\n",
       "      <td>3.584700e+09</td>\n",
       "      <td>5.381209e+09</td>\n",
       "      <td>1.419995e+10</td>\n",
       "      <td>19120.898668</td>\n",
       "    </tr>\n",
       "    <tr>\n",
       "      <th>Aug</th>\n",
       "      <td>221502</td>\n",
       "      <td>4.085870e+09</td>\n",
       "      <td>5.169591e+09</td>\n",
       "      <td>1.113349e+10</td>\n",
       "      <td>25208.067397</td>\n",
       "    </tr>\n",
       "    <tr>\n",
       "      <th>Dec</th>\n",
       "      <td>326234</td>\n",
       "      <td>6.656300e+09</td>\n",
       "      <td>8.800148e+09</td>\n",
       "      <td>2.162514e+10</td>\n",
       "      <td>25702.435973</td>\n",
       "    </tr>\n",
       "    <tr>\n",
       "      <th>Feb</th>\n",
       "      <td>173236</td>\n",
       "      <td>3.856140e+09</td>\n",
       "      <td>5.585865e+09</td>\n",
       "      <td>1.228548e+10</td>\n",
       "      <td>23853.337738</td>\n",
       "    </tr>\n",
       "    <tr>\n",
       "      <th>Jan</th>\n",
       "      <td>118827</td>\n",
       "      <td>1.878827e+09</td>\n",
       "      <td>2.196457e+09</td>\n",
       "      <td>4.219489e+09</td>\n",
       "      <td>26171.636346</td>\n",
       "    </tr>\n",
       "    <tr>\n",
       "      <th>Jul</th>\n",
       "      <td>213465</td>\n",
       "      <td>6.486255e+09</td>\n",
       "      <td>8.538119e+09</td>\n",
       "      <td>2.269723e+10</td>\n",
       "      <td>78454.102588</td>\n",
       "    </tr>\n",
       "    <tr>\n",
       "      <th>Jun</th>\n",
       "      <td>217533</td>\n",
       "      <td>7.727392e+09</td>\n",
       "      <td>1.071311e+10</td>\n",
       "      <td>2.736172e+10</td>\n",
       "      <td>31367.357922</td>\n",
       "    </tr>\n",
       "    <tr>\n",
       "      <th>Mar</th>\n",
       "      <td>229631</td>\n",
       "      <td>6.425540e+09</td>\n",
       "      <td>7.587076e+09</td>\n",
       "      <td>1.805564e+10</td>\n",
       "      <td>21021.108972</td>\n",
       "    </tr>\n",
       "    <tr>\n",
       "      <th>May</th>\n",
       "      <td>187325</td>\n",
       "      <td>7.549950e+09</td>\n",
       "      <td>8.946993e+09</td>\n",
       "      <td>2.405226e+10</td>\n",
       "      <td>21606.982419</td>\n",
       "    </tr>\n",
       "    <tr>\n",
       "      <th>Nov</th>\n",
       "      <td>247706</td>\n",
       "      <td>7.303530e+09</td>\n",
       "      <td>9.393120e+09</td>\n",
       "      <td>2.515034e+10</td>\n",
       "      <td>32004.941443</td>\n",
       "    </tr>\n",
       "    <tr>\n",
       "      <th>Oct</th>\n",
       "      <td>283934</td>\n",
       "      <td>3.810980e+09</td>\n",
       "      <td>4.700359e+09</td>\n",
       "      <td>1.174673e+10</td>\n",
       "      <td>50386.673101</td>\n",
       "    </tr>\n",
       "    <tr>\n",
       "      <th>Sep</th>\n",
       "      <td>253729</td>\n",
       "      <td>3.392565e+09</td>\n",
       "      <td>4.051725e+09</td>\n",
       "      <td>9.131084e+09</td>\n",
       "      <td>23382.021837</td>\n",
       "    </tr>\n",
       "  </tbody>\n",
       "</table>\n",
       "</div>"
      ],
      "text/plain": [
       "             start_year  production_budget  domestic_gross  worldwide_gross  \\\n",
       "start_month                                                                   \n",
       "Apr              159084       3.584700e+09    5.381209e+09     1.419995e+10   \n",
       "Aug              221502       4.085870e+09    5.169591e+09     1.113349e+10   \n",
       "Dec              326234       6.656300e+09    8.800148e+09     2.162514e+10   \n",
       "Feb              173236       3.856140e+09    5.585865e+09     1.228548e+10   \n",
       "Jan              118827       1.878827e+09    2.196457e+09     4.219489e+09   \n",
       "Jul              213465       6.486255e+09    8.538119e+09     2.269723e+10   \n",
       "Jun              217533       7.727392e+09    1.071311e+10     2.736172e+10   \n",
       "Mar              229631       6.425540e+09    7.587076e+09     1.805564e+10   \n",
       "May              187325       7.549950e+09    8.946993e+09     2.405226e+10   \n",
       "Nov              247706       7.303530e+09    9.393120e+09     2.515034e+10   \n",
       "Oct              283934       3.810980e+09    4.700359e+09     1.174673e+10   \n",
       "Sep              253729       3.392565e+09    4.051725e+09     9.131084e+09   \n",
       "\n",
       "                      ROI  \n",
       "start_month                \n",
       "Apr          19120.898668  \n",
       "Aug          25208.067397  \n",
       "Dec          25702.435973  \n",
       "Feb          23853.337738  \n",
       "Jan          26171.636346  \n",
       "Jul          78454.102588  \n",
       "Jun          31367.357922  \n",
       "Mar          21021.108972  \n",
       "May          21606.982419  \n",
       "Nov          32004.941443  \n",
       "Oct          50386.673101  \n",
       "Sep          23382.021837  "
      ]
     },
     "execution_count": 126,
     "metadata": {},
     "output_type": "execute_result"
    }
   ],
   "source": [
    "month_grouped"
   ]
  },
  {
   "cell_type": "markdown",
   "metadata": {},
   "source": [
    "I reorder the months so that they are in the correct chronological order."
   ]
  },
  {
   "cell_type": "code",
   "execution_count": 127,
   "metadata": {},
   "outputs": [],
   "source": [
    "#make start_month its own column by reseting the index\n",
    "month_grouped.reset_index(inplace=True)"
   ]
  },
  {
   "cell_type": "code",
   "execution_count": 128,
   "metadata": {},
   "outputs": [],
   "source": [
    "#set new month order\n",
    "order = [4, 8, 12, 2, 1, 7, 6, 3, 5, 11, 10, 9]\n",
    "\n",
    "#set index to the specified order and sort\n",
    "month_grouped.index = order\n",
    "month_grouped.sort_index(inplace=True)"
   ]
  },
  {
   "cell_type": "code",
   "execution_count": 129,
   "metadata": {},
   "outputs": [],
   "source": [
    "#set the index back to start_month\n",
    "month_grouped.set_index('start_month', inplace=True)"
   ]
  },
  {
   "cell_type": "code",
   "execution_count": 151,
   "metadata": {
    "scrolled": false
   },
   "outputs": [
    {
     "data": {
      "image/png": "[encoded data removed]",
      "text/plain": [
       "<Figure size 720x432 with 1 Axes>"
      ]
     },
     "metadata": {
      "needs_background": "light"
     },
     "output_type": "display_data"
    }
   ],
   "source": [
    "#plot bar chart of sum of gross profit by month\n",
    "ax = month_grouped.plot(kind='bar', y=['worldwide_gross'], figsize=(10,6));\n",
    "\n",
    "#remove legend and adjust title/labels/ticks\n",
    "ax.set_title('Sum of Gross Profit by Month (2010-2020)', fontsize=18);\n",
    "ax.get_legend().remove()\n",
    "ax.set_xlabel('Month', fontsize=16);\n",
    "ax.set_ylabel('Amount ($)', fontsize=16);\n",
    "plt.xticks(fontsize=12, rotation=0);"
   ]
  },
  {
   "cell_type": "markdown",
   "metadata": {},
   "source": [
    "## Conclusions\n",
    " - **Invest in large budget movies in the animation, sci-fi, and adventure genres:** Microsoft is a multi-trillion dollar company. For their new movie studio to have a substantial impact on their bottomline they will need to generate sizable profits. This is most likely to occur in large budget productions in the animation, sci-fi, and adventure genres.\n",
    " - **Fill out movie collection with lower budget mystery and horror films:** In addition to big budget movies, Microsoft will need to fill out its movie portfolio. Lower budget mystery and horror movies offer a great opportunity to do this as they can generate a substantial return on investment.\n",
    " - **Release new movies during the summer and holiday months:** May through July and November through December are the prime months for releasing new movies as people are taking time off for the summer and holidays."
   ]
  },
  {
   "cell_type": "markdown",
   "metadata": {},
   "source": [
    "## Next Steps\n",
    " - **Determine what factors impact ratings:** The analysis conducted evaluated the impact on various movie elements on gross profit and ROI. Another potential measure of success for movies is ratings. Future analysis should focus on identifying movie attributes that impact ratings.\n",
    " - **Explore the impact of cast and crew on movie success:** This analysis could identify which cast and crew positions (e.g. directors, actors, writers) are most crucial to the the success of a movie.\n",
    " - **Analyze the influence that streaming platforms have had on box office returns:** In recent years, streaming platforms have become more prevalent. Looking at the overall trend of box office gross profits could lend insight into the impact streaming has had on the movie industry."
   ]
  }
 ],
 "metadata": {
  "kernelspec": {
   "display_name": "Python 3",
   "language": "python",
   "name": "python3"
  },
  "language_info": {
   "codemirror_mode": {
    "name": "ipython",
    "version": 3
   },
   "file_extension": ".py",
   "mimetype": "text/x-python",
   "name": "python",
   "nbconvert_exporter": "python",
   "pygments_lexer": "ipython3",
   "version": "3.8.5"
  },
  "toc": {
   "base_numbering": 1,
   "nav_menu": {},
   "number_sections": true,
   "sideBar": true,
   "skip_h1_title": false,
   "title_cell": "Table of Contents",
   "title_sidebar": "Contents",
   "toc_cell": false,
   "toc_position": {
    "height": "calc(100% - 180px)",
    "left": "10px",
    "top": "150px",
    "width": "349.091px"
   },
   "toc_section_display": true,
   "toc_window_display": false
  }
 },
 "nbformat": 4,
 "nbformat_minor": 2
}
