{
 "cells": [
  {
   "cell_type": "markdown",
   "metadata": {},
   "source": [
    "# Movie Data Analysis for Microsoft\n",
    "<img src=\"./images/Microsoft_image.jpg\" alt=\"Drawing\" style=\"width: 900px;height:300px;float: left;\"/>"
   ]
  },
  {
   "cell_type": "markdown",
   "metadata": {},
   "source": [
    "# Overview\n",
    "This project uses exploratory data analysis to produce insights about what factors lead to a movie's success. Analysis of movie datasets from IMDb and The Numbers shows that production budget, genre, and release date play an important role in determining a movie's gross profit, rating, and return on investment. Microsoft can use this analysis to determine what types of movies to make, how much to invest in them, and when to release them."
   ]
  },
  {
   "cell_type": "markdown",
   "metadata": {},
   "source": [
    "# Business Problem\n",
    "Microsoft is planning on starting their own movie studio, but they are lacking industry knowledge. To guide their decision making in their new studio, they need analysis of what types of movies perform well at the box office."
   ]
  },
  {
   "cell_type": "markdown",
   "metadata": {},
   "source": [
    "# Data Understanding\n",
    "The datasets used in this analysis are from IMDb and The Numbers. They provide movie information such as genre, ratings, and financials."
   ]
  },
  {
   "cell_type": "code",
   "execution_count": 529,
   "metadata": {},
   "outputs": [],
   "source": [
    "#import pandas\n",
    "import pandas as pd"
   ]
  },
  {
   "cell_type": "code",
   "execution_count": 530,
   "metadata": {},
   "outputs": [],
   "source": [
    "#import data with pandas\n",
    "imdb_titles = pd.read_csv('zippedData/imdb.title.akas.csv.gz')\n",
    "imdb_titles_basics = pd.read_csv('zippedData/imdb.title.basics.csv.gz')\n",
    "imdb_ratings = pd.read_csv('zippedData/imdb.title.ratings.csv.gz')\n",
    "the_numbers = pd.read_csv('zippedData/tn.movie_budgets.csv.gz')"
   ]
  },
  {
   "cell_type": "markdown",
   "metadata": {},
   "source": [
    "## IMDb Datasets\n",
    "The IMDb datasets contain unique IDs for each movie, and include information on movies released from 2010 and after. IMDb provides information on region of production, genre, and ratings."
   ]
  },
  {
   "cell_type": "code",
   "execution_count": 531,
   "metadata": {
    "scrolled": false
   },
   "outputs": [
    {
     "data": {
      "text/html": [
       "<div>\n",
       "<style scoped>\n",
       "    .dataframe tbody tr th:only-of-type {\n",
       "        vertical-align: middle;\n",
       "    }\n",
       "\n",
       "    .dataframe tbody tr th {\n",
       "        vertical-align: top;\n",
       "    }\n",
       "\n",
       "    .dataframe thead th {\n",
       "        text-align: right;\n",
       "    }\n",
       "</style>\n",
       "<table border=\"1\" class=\"dataframe\">\n",
       "  <thead>\n",
       "    <tr style=\"text-align: right;\">\n",
       "      <th></th>\n",
       "      <th>title_id</th>\n",
       "      <th>ordering</th>\n",
       "      <th>title</th>\n",
       "      <th>region</th>\n",
       "      <th>language</th>\n",
       "      <th>types</th>\n",
       "      <th>attributes</th>\n",
       "      <th>is_original_title</th>\n",
       "    </tr>\n",
       "  </thead>\n",
       "  <tbody>\n",
       "    <tr>\n",
       "      <th>0</th>\n",
       "      <td>tt0369610</td>\n",
       "      <td>10</td>\n",
       "      <td>Джурасик свят</td>\n",
       "      <td>BG</td>\n",
       "      <td>bg</td>\n",
       "      <td>NaN</td>\n",
       "      <td>NaN</td>\n",
       "      <td>0.0</td>\n",
       "    </tr>\n",
       "    <tr>\n",
       "      <th>1</th>\n",
       "      <td>tt0369610</td>\n",
       "      <td>11</td>\n",
       "      <td>Jurashikku warudo</td>\n",
       "      <td>JP</td>\n",
       "      <td>NaN</td>\n",
       "      <td>imdbDisplay</td>\n",
       "      <td>NaN</td>\n",
       "      <td>0.0</td>\n",
       "    </tr>\n",
       "    <tr>\n",
       "      <th>2</th>\n",
       "      <td>tt0369610</td>\n",
       "      <td>12</td>\n",
       "      <td>Jurassic World: O Mundo dos Dinossauros</td>\n",
       "      <td>BR</td>\n",
       "      <td>NaN</td>\n",
       "      <td>imdbDisplay</td>\n",
       "      <td>NaN</td>\n",
       "      <td>0.0</td>\n",
       "    </tr>\n",
       "    <tr>\n",
       "      <th>3</th>\n",
       "      <td>tt0369610</td>\n",
       "      <td>13</td>\n",
       "      <td>O Mundo dos Dinossauros</td>\n",
       "      <td>BR</td>\n",
       "      <td>NaN</td>\n",
       "      <td>NaN</td>\n",
       "      <td>short title</td>\n",
       "      <td>0.0</td>\n",
       "    </tr>\n",
       "    <tr>\n",
       "      <th>4</th>\n",
       "      <td>tt0369610</td>\n",
       "      <td>14</td>\n",
       "      <td>Jurassic World</td>\n",
       "      <td>FR</td>\n",
       "      <td>NaN</td>\n",
       "      <td>imdbDisplay</td>\n",
       "      <td>NaN</td>\n",
       "      <td>0.0</td>\n",
       "    </tr>\n",
       "  </tbody>\n",
       "</table>\n",
       "</div>"
      ],
      "text/plain": [
       "    title_id  ordering                                    title region  \\\n",
       "0  tt0369610        10                            Джурасик свят     BG   \n",
       "1  tt0369610        11                        Jurashikku warudo     JP   \n",
       "2  tt0369610        12  Jurassic World: O Mundo dos Dinossauros     BR   \n",
       "3  tt0369610        13                  O Mundo dos Dinossauros     BR   \n",
       "4  tt0369610        14                           Jurassic World     FR   \n",
       "\n",
       "  language        types   attributes  is_original_title  \n",
       "0       bg          NaN          NaN                0.0  \n",
       "1      NaN  imdbDisplay          NaN                0.0  \n",
       "2      NaN  imdbDisplay          NaN                0.0  \n",
       "3      NaN          NaN  short title                0.0  \n",
       "4      NaN  imdbDisplay          NaN                0.0  "
      ]
     },
     "execution_count": 531,
     "metadata": {},
     "output_type": "execute_result"
    }
   ],
   "source": [
    "imdb_titles.head(5)"
   ]
  },
  {
   "cell_type": "code",
   "execution_count": 532,
   "metadata": {
    "scrolled": false
   },
   "outputs": [
    {
     "data": {
      "text/plain": [
       "US     51490\n",
       "XWW    18467\n",
       "RU     13817\n",
       "DE     11634\n",
       "FR     10990\n",
       "       ...  \n",
       "EH         1\n",
       "MQ         1\n",
       "CF         1\n",
       "AI         1\n",
       "KN         1\n",
       "Name: region, Length: 213, dtype: int64"
      ]
     },
     "execution_count": 532,
     "metadata": {},
     "output_type": "execute_result"
    }
   ],
   "source": [
    "imdb_titles.region.value_counts()"
   ]
  },
  {
   "cell_type": "code",
   "execution_count": 533,
   "metadata": {
    "scrolled": false
   },
   "outputs": [
    {
     "data": {
      "text/html": [
       "<div>\n",
       "<style scoped>\n",
       "    .dataframe tbody tr th:only-of-type {\n",
       "        vertical-align: middle;\n",
       "    }\n",
       "\n",
       "    .dataframe tbody tr th {\n",
       "        vertical-align: top;\n",
       "    }\n",
       "\n",
       "    .dataframe thead th {\n",
       "        text-align: right;\n",
       "    }\n",
       "</style>\n",
       "<table border=\"1\" class=\"dataframe\">\n",
       "  <thead>\n",
       "    <tr style=\"text-align: right;\">\n",
       "      <th></th>\n",
       "      <th>tconst</th>\n",
       "      <th>primary_title</th>\n",
       "      <th>original_title</th>\n",
       "      <th>start_year</th>\n",
       "      <th>runtime_minutes</th>\n",
       "      <th>genres</th>\n",
       "    </tr>\n",
       "  </thead>\n",
       "  <tbody>\n",
       "    <tr>\n",
       "      <th>0</th>\n",
       "      <td>tt0063540</td>\n",
       "      <td>Sunghursh</td>\n",
       "      <td>Sunghursh</td>\n",
       "      <td>2013</td>\n",
       "      <td>175.0</td>\n",
       "      <td>Action,Crime,Drama</td>\n",
       "    </tr>\n",
       "    <tr>\n",
       "      <th>1</th>\n",
       "      <td>tt0066787</td>\n",
       "      <td>One Day Before the Rainy Season</td>\n",
       "      <td>Ashad Ka Ek Din</td>\n",
       "      <td>2019</td>\n",
       "      <td>114.0</td>\n",
       "      <td>Biography,Drama</td>\n",
       "    </tr>\n",
       "    <tr>\n",
       "      <th>2</th>\n",
       "      <td>tt0069049</td>\n",
       "      <td>The Other Side of the Wind</td>\n",
       "      <td>The Other Side of the Wind</td>\n",
       "      <td>2018</td>\n",
       "      <td>122.0</td>\n",
       "      <td>Drama</td>\n",
       "    </tr>\n",
       "    <tr>\n",
       "      <th>3</th>\n",
       "      <td>tt0069204</td>\n",
       "      <td>Sabse Bada Sukh</td>\n",
       "      <td>Sabse Bada Sukh</td>\n",
       "      <td>2018</td>\n",
       "      <td>NaN</td>\n",
       "      <td>Comedy,Drama</td>\n",
       "    </tr>\n",
       "    <tr>\n",
       "      <th>4</th>\n",
       "      <td>tt0100275</td>\n",
       "      <td>The Wandering Soap Opera</td>\n",
       "      <td>La Telenovela Errante</td>\n",
       "      <td>2017</td>\n",
       "      <td>80.0</td>\n",
       "      <td>Comedy,Drama,Fantasy</td>\n",
       "    </tr>\n",
       "  </tbody>\n",
       "</table>\n",
       "</div>"
      ],
      "text/plain": [
       "      tconst                    primary_title              original_title  \\\n",
       "0  tt0063540                        Sunghursh                   Sunghursh   \n",
       "1  tt0066787  One Day Before the Rainy Season             Ashad Ka Ek Din   \n",
       "2  tt0069049       The Other Side of the Wind  The Other Side of the Wind   \n",
       "3  tt0069204                  Sabse Bada Sukh             Sabse Bada Sukh   \n",
       "4  tt0100275         The Wandering Soap Opera       La Telenovela Errante   \n",
       "\n",
       "   start_year  runtime_minutes                genres  \n",
       "0        2013            175.0    Action,Crime,Drama  \n",
       "1        2019            114.0       Biography,Drama  \n",
       "2        2018            122.0                 Drama  \n",
       "3        2018              NaN          Comedy,Drama  \n",
       "4        2017             80.0  Comedy,Drama,Fantasy  "
      ]
     },
     "execution_count": 533,
     "metadata": {},
     "output_type": "execute_result"
    }
   ],
   "source": [
    "imdb_titles_basics.head(5)"
   ]
  },
  {
   "cell_type": "code",
   "execution_count": 534,
   "metadata": {
    "scrolled": true
   },
   "outputs": [
    {
     "name": "stdout",
     "output_type": "stream",
     "text": [
      "<class 'pandas.core.frame.DataFrame'>\n",
      "RangeIndex: 146144 entries, 0 to 146143\n",
      "Data columns (total 6 columns):\n",
      " #   Column           Non-Null Count   Dtype  \n",
      "---  ------           --------------   -----  \n",
      " 0   tconst           146144 non-null  object \n",
      " 1   primary_title    146144 non-null  object \n",
      " 2   original_title   146123 non-null  object \n",
      " 3   start_year       146144 non-null  int64  \n",
      " 4   runtime_minutes  114405 non-null  float64\n",
      " 5   genres           140736 non-null  object \n",
      "dtypes: float64(1), int64(1), object(4)\n",
      "memory usage: 6.7+ MB\n"
     ]
    }
   ],
   "source": [
    "imdb_titles_basics.info()"
   ]
  },
  {
   "cell_type": "code",
   "execution_count": 535,
   "metadata": {
    "scrolled": true
   },
   "outputs": [
    {
     "data": {
      "text/html": [
       "<div>\n",
       "<style scoped>\n",
       "    .dataframe tbody tr th:only-of-type {\n",
       "        vertical-align: middle;\n",
       "    }\n",
       "\n",
       "    .dataframe tbody tr th {\n",
       "        vertical-align: top;\n",
       "    }\n",
       "\n",
       "    .dataframe thead th {\n",
       "        text-align: right;\n",
       "    }\n",
       "</style>\n",
       "<table border=\"1\" class=\"dataframe\">\n",
       "  <thead>\n",
       "    <tr style=\"text-align: right;\">\n",
       "      <th></th>\n",
       "      <th>tconst</th>\n",
       "      <th>averagerating</th>\n",
       "      <th>numvotes</th>\n",
       "    </tr>\n",
       "  </thead>\n",
       "  <tbody>\n",
       "    <tr>\n",
       "      <th>0</th>\n",
       "      <td>tt10356526</td>\n",
       "      <td>8.3</td>\n",
       "      <td>31</td>\n",
       "    </tr>\n",
       "    <tr>\n",
       "      <th>1</th>\n",
       "      <td>tt10384606</td>\n",
       "      <td>8.9</td>\n",
       "      <td>559</td>\n",
       "    </tr>\n",
       "    <tr>\n",
       "      <th>2</th>\n",
       "      <td>tt1042974</td>\n",
       "      <td>6.4</td>\n",
       "      <td>20</td>\n",
       "    </tr>\n",
       "    <tr>\n",
       "      <th>3</th>\n",
       "      <td>tt1043726</td>\n",
       "      <td>4.2</td>\n",
       "      <td>50352</td>\n",
       "    </tr>\n",
       "    <tr>\n",
       "      <th>4</th>\n",
       "      <td>tt1060240</td>\n",
       "      <td>6.5</td>\n",
       "      <td>21</td>\n",
       "    </tr>\n",
       "  </tbody>\n",
       "</table>\n",
       "</div>"
      ],
      "text/plain": [
       "       tconst  averagerating  numvotes\n",
       "0  tt10356526            8.3        31\n",
       "1  tt10384606            8.9       559\n",
       "2   tt1042974            6.4        20\n",
       "3   tt1043726            4.2     50352\n",
       "4   tt1060240            6.5        21"
      ]
     },
     "execution_count": 535,
     "metadata": {},
     "output_type": "execute_result"
    }
   ],
   "source": [
    "imdb_ratings.head(5)"
   ]
  },
  {
   "cell_type": "code",
   "execution_count": 536,
   "metadata": {},
   "outputs": [
    {
     "name": "stdout",
     "output_type": "stream",
     "text": [
      "<class 'pandas.core.frame.DataFrame'>\n",
      "RangeIndex: 73856 entries, 0 to 73855\n",
      "Data columns (total 3 columns):\n",
      " #   Column         Non-Null Count  Dtype  \n",
      "---  ------         --------------  -----  \n",
      " 0   tconst         73856 non-null  object \n",
      " 1   averagerating  73856 non-null  float64\n",
      " 2   numvotes       73856 non-null  int64  \n",
      "dtypes: float64(1), int64(1), object(1)\n",
      "memory usage: 1.7+ MB\n"
     ]
    }
   ],
   "source": [
    "imdb_ratings.info()"
   ]
  },
  {
   "cell_type": "markdown",
   "metadata": {},
   "source": [
    "## The Numbers Dataset\n",
    "The Numbers dataset provides information on movie finances and release dates. The dataset includes movies between the year 1915 and 2020."
   ]
  },
  {
   "cell_type": "code",
   "execution_count": 537,
   "metadata": {
    "scrolled": true
   },
   "outputs": [
    {
     "data": {
      "text/html": [
       "<div>\n",
       "<style scoped>\n",
       "    .dataframe tbody tr th:only-of-type {\n",
       "        vertical-align: middle;\n",
       "    }\n",
       "\n",
       "    .dataframe tbody tr th {\n",
       "        vertical-align: top;\n",
       "    }\n",
       "\n",
       "    .dataframe thead th {\n",
       "        text-align: right;\n",
       "    }\n",
       "</style>\n",
       "<table border=\"1\" class=\"dataframe\">\n",
       "  <thead>\n",
       "    <tr style=\"text-align: right;\">\n",
       "      <th></th>\n",
       "      <th>id</th>\n",
       "      <th>release_date</th>\n",
       "      <th>movie</th>\n",
       "      <th>production_budget</th>\n",
       "      <th>domestic_gross</th>\n",
       "      <th>worldwide_gross</th>\n",
       "    </tr>\n",
       "  </thead>\n",
       "  <tbody>\n",
       "    <tr>\n",
       "      <th>0</th>\n",
       "      <td>1</td>\n",
       "      <td>Dec 18, 2009</td>\n",
       "      <td>Avatar</td>\n",
       "      <td>$425,000,000</td>\n",
       "      <td>$760,507,625</td>\n",
       "      <td>$2,776,345,279</td>\n",
       "    </tr>\n",
       "    <tr>\n",
       "      <th>1</th>\n",
       "      <td>2</td>\n",
       "      <td>May 20, 2011</td>\n",
       "      <td>Pirates of the Caribbean: On Stranger Tides</td>\n",
       "      <td>$410,600,000</td>\n",
       "      <td>$241,063,875</td>\n",
       "      <td>$1,045,663,875</td>\n",
       "    </tr>\n",
       "    <tr>\n",
       "      <th>2</th>\n",
       "      <td>3</td>\n",
       "      <td>Jun 7, 2019</td>\n",
       "      <td>Dark Phoenix</td>\n",
       "      <td>$350,000,000</td>\n",
       "      <td>$42,762,350</td>\n",
       "      <td>$149,762,350</td>\n",
       "    </tr>\n",
       "    <tr>\n",
       "      <th>3</th>\n",
       "      <td>4</td>\n",
       "      <td>May 1, 2015</td>\n",
       "      <td>Avengers: Age of Ultron</td>\n",
       "      <td>$330,600,000</td>\n",
       "      <td>$459,005,868</td>\n",
       "      <td>$1,403,013,963</td>\n",
       "    </tr>\n",
       "    <tr>\n",
       "      <th>4</th>\n",
       "      <td>5</td>\n",
       "      <td>Dec 15, 2017</td>\n",
       "      <td>Star Wars Ep. VIII: The Last Jedi</td>\n",
       "      <td>$317,000,000</td>\n",
       "      <td>$620,181,382</td>\n",
       "      <td>$1,316,721,747</td>\n",
       "    </tr>\n",
       "  </tbody>\n",
       "</table>\n",
       "</div>"
      ],
      "text/plain": [
       "   id  release_date                                        movie  \\\n",
       "0   1  Dec 18, 2009                                       Avatar   \n",
       "1   2  May 20, 2011  Pirates of the Caribbean: On Stranger Tides   \n",
       "2   3   Jun 7, 2019                                 Dark Phoenix   \n",
       "3   4   May 1, 2015                      Avengers: Age of Ultron   \n",
       "4   5  Dec 15, 2017            Star Wars Ep. VIII: The Last Jedi   \n",
       "\n",
       "  production_budget domestic_gross worldwide_gross  \n",
       "0      $425,000,000   $760,507,625  $2,776,345,279  \n",
       "1      $410,600,000   $241,063,875  $1,045,663,875  \n",
       "2      $350,000,000    $42,762,350    $149,762,350  \n",
       "3      $330,600,000   $459,005,868  $1,403,013,963  \n",
       "4      $317,000,000   $620,181,382  $1,316,721,747  "
      ]
     },
     "execution_count": 537,
     "metadata": {},
     "output_type": "execute_result"
    }
   ],
   "source": [
    "the_numbers.head(5)"
   ]
  },
  {
   "cell_type": "code",
   "execution_count": 538,
   "metadata": {
    "scrolled": false
   },
   "outputs": [
    {
     "name": "stdout",
     "output_type": "stream",
     "text": [
      "<class 'pandas.core.frame.DataFrame'>\n",
      "RangeIndex: 5782 entries, 0 to 5781\n",
      "Data columns (total 6 columns):\n",
      " #   Column             Non-Null Count  Dtype \n",
      "---  ------             --------------  ----- \n",
      " 0   id                 5782 non-null   int64 \n",
      " 1   release_date       5782 non-null   object\n",
      " 2   movie              5782 non-null   object\n",
      " 3   production_budget  5782 non-null   object\n",
      " 4   domestic_gross     5782 non-null   object\n",
      " 5   worldwide_gross    5782 non-null   object\n",
      "dtypes: int64(1), object(5)\n",
      "memory usage: 271.2+ KB\n"
     ]
    }
   ],
   "source": [
    "the_numbers.info()"
   ]
  },
  {
   "cell_type": "markdown",
   "metadata": {},
   "source": [
    "# Data Preparation"
   ]
  },
  {
   "cell_type": "markdown",
   "metadata": {},
   "source": [
    "## Data Cleaning"
   ]
  },
  {
   "cell_type": "markdown",
   "metadata": {},
   "source": [
    "For each dataset I drop unnecessary columns and rows, and I manipulate the data to desired forms."
   ]
  },
  {
   "cell_type": "code",
   "execution_count": 539,
   "metadata": {},
   "outputs": [],
   "source": [
    "#select only US films\n",
    "imdb_titles = imdb_titles[imdb_titles.region == 'US']\n",
    "\n",
    "#drop duplicate rows\n",
    "imdb_titles.drop_duplicates('title_id', inplace=True)\n",
    "\n",
    "#drop unecessary columns\n",
    "imdb_titles.drop(['ordering', 'title', 'language', 'types', 'attributes', \n",
    "                  'is_original_title'], axis=1, inplace=True)\n"
   ]
  },
  {
   "cell_type": "code",
   "execution_count": 540,
   "metadata": {
    "scrolled": false
   },
   "outputs": [],
   "source": [
    "# #drop unecessary columns\n",
    "imdb_titles_basics.drop(['original_title', 'runtime_minutes'], axis=1, inplace=True)\n",
    "\n",
    "#rename columns for consistency\n",
    "imdb_titles_basics.rename(columns={'primary_title': 'movie'}, \n",
    "                          inplace=True)\n",
    "\n",
    "#drop row where genre is NaN\n",
    "imdb_titles_basics.dropna(subset=['genres'], inplace=True)\n",
    "\n",
    "#convert string of genres into list of strings\n",
    "imdb_titles_basics['genres'] = imdb_titles_basics.genres.map(lambda x: x.split(\",\"))"
   ]
  },
  {
   "cell_type": "code",
   "execution_count": 541,
   "metadata": {},
   "outputs": [],
   "source": [
    "imdb_ratings.drop('numvotes', axis=1, inplace=True)"
   ]
  },
  {
   "cell_type": "code",
   "execution_count": 542,
   "metadata": {},
   "outputs": [],
   "source": [
    "#convert budget and gross columsn from strings to floats\n",
    "the_numbers['domestic_gross'] = the_numbers.domestic_gross.map(lambda x: \n",
    "                                    float(x.replace('$','').replace(',','')))\n",
    "the_numbers['production_budget'] = the_numbers.production_budget.map(lambda x: \n",
    "                                    float(x.replace('$','').replace(',','')))\n",
    "the_numbers['worldwide_gross'] = the_numbers.worldwide_gross.map(lambda x: \n",
    "                                    float(x.replace('$','').replace(',','')))\n",
    "\n",
    "#seperate release date into year and month\n",
    "the_numbers['start_year'] = the_numbers.release_date.map(lambda x: int(x[-4:]))\n",
    "the_numbers['start_month'] = the_numbers.release_date.map(lambda x: x[:3])\n",
    "\n",
    "#convert year to int to match imdb dataset\n",
    "the_numbers['start_year'] = the_numbers['start_year'].map(lambda x: int(x))\n",
    "\n",
    "#drop unecessary columns\n",
    "the_numbers.drop(['id', 'release_date'], axis=1, inplace=True)"
   ]
  },
  {
   "cell_type": "markdown",
   "metadata": {},
   "source": [
    "## Merge Data\n",
    "I start by merging imdb datasets through their unique IDs(title_id/tconst)."
   ]
  },
  {
   "cell_type": "code",
   "execution_count": 543,
   "metadata": {},
   "outputs": [],
   "source": [
    "#reset the imdb_title_baiscs to tconst\n",
    "imdb_titles_basics.set_index('tconst', inplace=True)\n",
    "imdb_ratings.set_index('tconst', inplace=True)"
   ]
  },
  {
   "cell_type": "code",
   "execution_count": 544,
   "metadata": {},
   "outputs": [],
   "source": [
    "#join imbd_titles with imdb_tiles_basics\n",
    "imdb_titles_and_basics = imdb_titles.join(imdb_titles_basics, how='inner', \n",
    "                                          on='title_id')"
   ]
  },
  {
   "cell_type": "code",
   "execution_count": 545,
   "metadata": {},
   "outputs": [],
   "source": [
    "#merge imbd_ratings with the joined dataframe above\n",
    "imdb_combined = imdb_titles_and_basics.join(imdb_ratings, how='left', \n",
    "                                          on='title_id')"
   ]
  },
  {
   "cell_type": "code",
   "execution_count": 546,
   "metadata": {
    "scrolled": true
   },
   "outputs": [
    {
     "data": {
      "text/html": [
       "<div>\n",
       "<style scoped>\n",
       "    .dataframe tbody tr th:only-of-type {\n",
       "        vertical-align: middle;\n",
       "    }\n",
       "\n",
       "    .dataframe tbody tr th {\n",
       "        vertical-align: top;\n",
       "    }\n",
       "\n",
       "    .dataframe thead th {\n",
       "        text-align: right;\n",
       "    }\n",
       "</style>\n",
       "<table border=\"1\" class=\"dataframe\">\n",
       "  <thead>\n",
       "    <tr style=\"text-align: right;\">\n",
       "      <th></th>\n",
       "      <th>title_id</th>\n",
       "      <th>region</th>\n",
       "      <th>movie</th>\n",
       "      <th>start_year</th>\n",
       "      <th>genres</th>\n",
       "      <th>averagerating</th>\n",
       "    </tr>\n",
       "  </thead>\n",
       "  <tbody>\n",
       "    <tr>\n",
       "      <th>12</th>\n",
       "      <td>tt0369610</td>\n",
       "      <td>US</td>\n",
       "      <td>Jurassic World</td>\n",
       "      <td>2015</td>\n",
       "      <td>[Action, Adventure, Sci-Fi]</td>\n",
       "      <td>7.0</td>\n",
       "    </tr>\n",
       "    <tr>\n",
       "      <th>50</th>\n",
       "      <td>tt0401729</td>\n",
       "      <td>US</td>\n",
       "      <td>John Carter</td>\n",
       "      <td>2012</td>\n",
       "      <td>[Action, Adventure, Sci-Fi]</td>\n",
       "      <td>6.6</td>\n",
       "    </tr>\n",
       "    <tr>\n",
       "      <th>109</th>\n",
       "      <td>tt1014759</td>\n",
       "      <td>US</td>\n",
       "      <td>Alice in Wonderland</td>\n",
       "      <td>2010</td>\n",
       "      <td>[Adventure, Family, Fantasy]</td>\n",
       "      <td>6.5</td>\n",
       "    </tr>\n",
       "    <tr>\n",
       "      <th>152</th>\n",
       "      <td>tt10379338</td>\n",
       "      <td>US</td>\n",
       "      <td>Random Night Out</td>\n",
       "      <td>2019</td>\n",
       "      <td>[Comedy]</td>\n",
       "      <td>NaN</td>\n",
       "    </tr>\n",
       "    <tr>\n",
       "      <th>157</th>\n",
       "      <td>tt10446418</td>\n",
       "      <td>US</td>\n",
       "      <td>Icon</td>\n",
       "      <td>2011</td>\n",
       "      <td>[Documentary, History]</td>\n",
       "      <td>NaN</td>\n",
       "    </tr>\n",
       "  </tbody>\n",
       "</table>\n",
       "</div>"
      ],
      "text/plain": [
       "       title_id region                movie  start_year  \\\n",
       "12    tt0369610     US       Jurassic World        2015   \n",
       "50    tt0401729     US          John Carter        2012   \n",
       "109   tt1014759     US  Alice in Wonderland        2010   \n",
       "152  tt10379338     US     Random Night Out        2019   \n",
       "157  tt10446418     US                 Icon        2011   \n",
       "\n",
       "                           genres  averagerating  \n",
       "12    [Action, Adventure, Sci-Fi]            7.0  \n",
       "50    [Action, Adventure, Sci-Fi]            6.6  \n",
       "109  [Adventure, Family, Fantasy]            6.5  \n",
       "152                      [Comedy]            NaN  \n",
       "157        [Documentary, History]            NaN  "
      ]
     },
     "execution_count": 546,
     "metadata": {},
     "output_type": "execute_result"
    }
   ],
   "source": [
    "imdb_combined.head()"
   ]
  },
  {
   "cell_type": "markdown",
   "metadata": {},
   "source": [
    "Now I merge the combined imdb dataset with the tn_budgets. Since these datasets don't have a common identifier, I merge them using the movie title and release year. The merged dataset will contain movies between 2010 and 2020."
   ]
  },
  {
   "cell_type": "code",
   "execution_count": 547,
   "metadata": {},
   "outputs": [],
   "source": [
    "movie_df = imdb_combined.merge(the_numbers, how='inner', \n",
    "                               left_on= ['movie', 'start_year'],\n",
    "                              right_on= ['movie', 'start_year'])"
   ]
  },
  {
   "cell_type": "code",
   "execution_count": 548,
   "metadata": {
    "scrolled": false
   },
   "outputs": [
    {
     "data": {
      "text/plain": [
       "Redemption                            3\n",
       "Addicted                              2\n",
       "Heist                                 2\n",
       "Stronger                              2\n",
       "The Night Before                      2\n",
       "                                     ..\n",
       "Aroused                               1\n",
       "Real Steel                            1\n",
       "It                                    1\n",
       "Velvet Buzzsaw                        1\n",
       "Captain America: The First Avenger    1\n",
       "Name: movie, Length: 1323, dtype: int64"
      ]
     },
     "execution_count": 548,
     "metadata": {},
     "output_type": "execute_result"
    }
   ],
   "source": [
    "movie_df.movie.value_counts()"
   ]
  },
  {
   "cell_type": "markdown",
   "metadata": {},
   "source": [
    "Some of the movie in our datasets have the same movie title and year despite being different movies. Because we are joining the tn_budgets dataset with the imdb data through movie title and year, any movie/year combo that has multiple occurrences will be given the same values from the tn_budgets dataset. There are only 33 of these occurrences, so I remove any such rows."
   ]
  },
  {
   "cell_type": "code",
   "execution_count": 549,
   "metadata": {},
   "outputs": [],
   "source": [
    "movie_df.drop_duplicates(subset='movie', keep=False, inplace=True)"
   ]
  },
  {
   "cell_type": "markdown",
   "metadata": {},
   "source": [
    "## Feature Engineering\n",
    "Using the production budget and gross profit columns, I create a new column for return on investment (ROI) to assess the efficiency of each movie investment. ROI is calculated by dividing the net return on investment by the cost of such investment."
   ]
  },
  {
   "cell_type": "code",
   "execution_count": 550,
   "metadata": {},
   "outputs": [],
   "source": [
    "#add column for return on investment in perecentage\n",
    "movie_df['ROI'] = ((movie_df.worldwide_gross - movie_df.production_budget) \n",
    "                   / movie_df.production_budget) *100\n",
    "\n",
    "movie_df['rating_category'] = movie_df.averagerating.map(lambda x: \n",
    "                                                   \"Bad\" if x < 4 else \n",
    "                                                    (\"Average\" if x < 7 else \n",
    "                                                     \"Good\"))"
   ]
  },
  {
   "cell_type": "markdown",
   "metadata": {},
   "source": [
    "# Analysis"
   ]
  },
  {
   "cell_type": "code",
   "execution_count": 551,
   "metadata": {},
   "outputs": [],
   "source": [
    "#import plotting library\n",
    "import matplotlib.pyplot as plt\n",
    "import matplotlib.ticker as ticker\n",
    "import seaborn as sns\n",
    "%matplotlib inline"
   ]
  },
  {
   "cell_type": "markdown",
   "metadata": {},
   "source": [
    "## Production Budget\n",
    "Production budget is positively correlated with gross profits and ratings."
   ]
  },
  {
   "cell_type": "code",
   "execution_count": 552,
   "metadata": {
    "scrolled": true
   },
   "outputs": [
    {
     "name": "stdout",
     "output_type": "stream",
     "text": [
      "Production Budget Correlation with Gross Profit:  0.7799755853475726\n",
      "Production Budget Correlation with Ratings:  0.24356721920729124\n"
     ]
    }
   ],
   "source": [
    "#production budget correlation with gross profit and ROI\n",
    "budget_gross_corr = movie_df.production_budget.corr(movie_df.worldwide_gross)\n",
    "print(\"Production Budget Correlation with Gross Profit: \", budget_gross_corr)\n",
    "\n",
    "budget_rating_corr = movie_df.production_budget.corr(movie_df.averagerating)\n",
    "print(\"Production Budget Correlation with Ratings: \", budget_rating_corr)"
   ]
  },
  {
   "cell_type": "code",
   "execution_count": 553,
   "metadata": {},
   "outputs": [],
   "source": [
    "#define function for format of gross profit y-axis ticks\n",
    "def gross_tick_format(x, pos):\n",
    "    new_format = '{}'.format(x / 1000000000)\n",
    "    return new_format"
   ]
  },
  {
   "cell_type": "code",
   "execution_count": 554,
   "metadata": {},
   "outputs": [],
   "source": [
    "#define function for format of budget x-axis ticks\n",
    "def budget_tick_format(x, pos):\n",
    "    new_format = '{}'.format(x / 1000000)\n",
    "    return new_format"
   ]
  },
  {
   "cell_type": "code",
   "execution_count": 555,
   "metadata": {
    "scrolled": false
   },
   "outputs": [
    {
     "data": {
      "image/png": "[encoded data removed]",
      "text/plain": [
       "<Figure size 504x360 with 1 Axes>"
      ]
     },
     "metadata": {
      "needs_background": "light"
     },
     "output_type": "display_data"
    }
   ],
   "source": [
    "bad_movies =  movie_df[movie_df.rating_category == \"Bad\"]\n",
    "average_movies =  movie_df[movie_df.rating_category == \"Average\"]\n",
    "good_movies =  movie_df[movie_df.rating_category == \"Good\"]\n",
    "\n",
    "sorted_by_rating = pd.concat([good_movies, average_movies, bad_movies])\n",
    "\n",
    "fig, ax1 = plt.subplots(figsize=(7,5))\n",
    "\n",
    "sns.scatterplot(ax=ax1, x='production_budget', y='worldwide_gross', \n",
    "                hue='rating_category', hue_order=['Good','Average','Bad'],\n",
    "                data=sorted_by_rating);\n",
    "\n",
    "ax1.set_title(\"\"\"The Postive Correlations of Production Budget\n",
    "with Gross Profit and Ratings\"\"\", fontsize=18)\n",
    "\n",
    "ax1.get_legend().set_title(\"Rating Category\")\n",
    "ax1.set_xlabel('Production Budget ($ million)', fontsize=16);\n",
    "ax1.set_ylabel('Gross Profit ($ billion)', fontsize=18);\n",
    "\n",
    "ax1.yaxis.set_major_formatter(ticker.FuncFormatter(gross_tick_format))\n",
    "ax1.xaxis.set_major_formatter(ticker.FuncFormatter(budget_tick_format))\n",
    "ax1.tick_params(axis='both', which='major', labelsize=12)\n",
    "\n",
    "ax1.yaxis.set_major_locator(ticker.MultipleLocator(500000000))\n",
    "ax1.yaxis.set_minor_locator(ticker.MultipleLocator(100000000))\n",
    "ax1.xaxis.set_major_locator(ticker.MultipleLocator(100000000))\n",
    "ax1.xaxis.set_minor_locator(ticker.MultipleLocator(50000000))"
   ]
  },
  {
   "cell_type": "markdown",
   "metadata": {},
   "source": [
    "## Genre\n",
    "Animation, sci-fi, and adventure genres produce the greatest gross profit on average. Mystery and horror movies provide the best return on investment."
   ]
  },
  {
   "cell_type": "code",
   "execution_count": 556,
   "metadata": {},
   "outputs": [],
   "source": [
    "#seperate the list of genres in each row into their own rows\n",
    "genres_movie_df = movie_df.explode('genres')"
   ]
  },
  {
   "cell_type": "code",
   "execution_count": 460,
   "metadata": {},
   "outputs": [],
   "source": [
    "#group the data by genre, take the mean of the columns, and sort by gross\n",
    "genres_grouped = genres_movie_df.groupby('genres').mean().sort_values(\n",
    "    by='worldwide_gross', ascending=True)"
   ]
  },
  {
   "cell_type": "code",
   "execution_count": 557,
   "metadata": {},
   "outputs": [],
   "source": [
    "#define function for format of gross profit x-axis ticks\n",
    "def gross_tick_format_2(x, pos):\n",
    "    new_format = '{}'.format(x / 1000000)\n",
    "    return new_format"
   ]
  },
  {
   "cell_type": "code",
   "execution_count": 558,
   "metadata": {
    "scrolled": false
   },
   "outputs": [
    {
     "data": {
      "image/png": "[encoded data removed]",
      "text/plain": [
       "<Figure size 1080x360 with 2 Axes>"
      ]
     },
     "metadata": {
      "needs_background": "light"
     },
     "output_type": "display_data"
    }
   ],
   "source": [
    "#plot a bar charts of avergae gross and ROI by genre\n",
    "fig, (ax1, ax2) = plt.subplots(1,2, figsize=(15,5))\n",
    "\n",
    "#set title for overall figure\n",
    "fig.suptitle(\"Average Gross Profit and ROI by Genre\", fontsize=18)\n",
    "\n",
    "#gross porfit bar chart\n",
    "genres_grouped.plot(ax=ax1, kind='barh', y=['worldwide_gross']);\n",
    "\n",
    "#ROI bar chart\n",
    "genres_grouped.plot(ax=ax2, kind='barh', y=['ROI'], color='g');\n",
    "\n",
    "#adjust labels and legends\n",
    "ax1.legend(['Gross Profit'], loc=4, fontsize=12);\n",
    "ax1.set_ylabel('Genres', fontsize=16);\n",
    "ax1.set_xlabel('($ million)', fontsize=16);\n",
    "ax1.xaxis.set_major_formatter(ticker.FuncFormatter(gross_tick_format_2))\n",
    "\n",
    "ax2.legend(['ROI'], loc=4, fontsize=12);\n",
    "ax2.set_ylabel(\"\");\n",
    "ax2.set_xlabel(\"%\", fontsize=16);"
   ]
  },
  {
   "cell_type": "markdown",
   "metadata": {},
   "source": [
    "## Release Month\n",
    "The summer months from May to July and the holiday months from November to December have seen the greatest sum of profits in the last decade."
   ]
  },
  {
   "cell_type": "code",
   "execution_count": 559,
   "metadata": {},
   "outputs": [],
   "source": [
    "#group data by month and calculate the sum of the columns\n",
    "month_grouped = movie_df.groupby('start_month').sum()"
   ]
  },
  {
   "cell_type": "code",
   "execution_count": 560,
   "metadata": {
    "scrolled": false
   },
   "outputs": [
    {
     "data": {
      "text/html": [
       "<div>\n",
       "<style scoped>\n",
       "    .dataframe tbody tr th:only-of-type {\n",
       "        vertical-align: middle;\n",
       "    }\n",
       "\n",
       "    .dataframe tbody tr th {\n",
       "        vertical-align: top;\n",
       "    }\n",
       "\n",
       "    .dataframe thead th {\n",
       "        text-align: right;\n",
       "    }\n",
       "</style>\n",
       "<table border=\"1\" class=\"dataframe\">\n",
       "  <thead>\n",
       "    <tr style=\"text-align: right;\">\n",
       "      <th></th>\n",
       "      <th>start_year</th>\n",
       "      <th>averagerating</th>\n",
       "      <th>production_budget</th>\n",
       "      <th>domestic_gross</th>\n",
       "      <th>worldwide_gross</th>\n",
       "      <th>ROI</th>\n",
       "    </tr>\n",
       "    <tr>\n",
       "      <th>start_month</th>\n",
       "      <th></th>\n",
       "      <th></th>\n",
       "      <th></th>\n",
       "      <th></th>\n",
       "      <th></th>\n",
       "      <th></th>\n",
       "    </tr>\n",
       "  </thead>\n",
       "  <tbody>\n",
       "    <tr>\n",
       "      <th>Apr</th>\n",
       "      <td>159084</td>\n",
       "      <td>487.9</td>\n",
       "      <td>3.584700e+09</td>\n",
       "      <td>5.381209e+09</td>\n",
       "      <td>1.419995e+10</td>\n",
       "      <td>19120.898668</td>\n",
       "    </tr>\n",
       "    <tr>\n",
       "      <th>Aug</th>\n",
       "      <td>221502</td>\n",
       "      <td>676.6</td>\n",
       "      <td>4.085870e+09</td>\n",
       "      <td>5.169591e+09</td>\n",
       "      <td>1.113349e+10</td>\n",
       "      <td>25208.067397</td>\n",
       "    </tr>\n",
       "    <tr>\n",
       "      <th>Dec</th>\n",
       "      <td>326234</td>\n",
       "      <td>989.3</td>\n",
       "      <td>6.656300e+09</td>\n",
       "      <td>8.800148e+09</td>\n",
       "      <td>2.162514e+10</td>\n",
       "      <td>25702.435973</td>\n",
       "    </tr>\n",
       "    <tr>\n",
       "      <th>Feb</th>\n",
       "      <td>173236</td>\n",
       "      <td>501.0</td>\n",
       "      <td>3.856140e+09</td>\n",
       "      <td>5.585865e+09</td>\n",
       "      <td>1.228548e+10</td>\n",
       "      <td>23853.337738</td>\n",
       "    </tr>\n",
       "    <tr>\n",
       "      <th>Jan</th>\n",
       "      <td>118827</td>\n",
       "      <td>332.0</td>\n",
       "      <td>1.878827e+09</td>\n",
       "      <td>2.196457e+09</td>\n",
       "      <td>4.219489e+09</td>\n",
       "      <td>26171.636346</td>\n",
       "    </tr>\n",
       "    <tr>\n",
       "      <th>Jul</th>\n",
       "      <td>213465</td>\n",
       "      <td>661.6</td>\n",
       "      <td>6.486255e+09</td>\n",
       "      <td>8.538119e+09</td>\n",
       "      <td>2.269723e+10</td>\n",
       "      <td>78454.102588</td>\n",
       "    </tr>\n",
       "    <tr>\n",
       "      <th>Jun</th>\n",
       "      <td>217533</td>\n",
       "      <td>682.2</td>\n",
       "      <td>7.727392e+09</td>\n",
       "      <td>1.071311e+10</td>\n",
       "      <td>2.736172e+10</td>\n",
       "      <td>31367.357922</td>\n",
       "    </tr>\n",
       "    <tr>\n",
       "      <th>Mar</th>\n",
       "      <td>229631</td>\n",
       "      <td>706.7</td>\n",
       "      <td>6.425540e+09</td>\n",
       "      <td>7.587076e+09</td>\n",
       "      <td>1.805564e+10</td>\n",
       "      <td>21021.108972</td>\n",
       "    </tr>\n",
       "    <tr>\n",
       "      <th>May</th>\n",
       "      <td>187325</td>\n",
       "      <td>579.7</td>\n",
       "      <td>7.549950e+09</td>\n",
       "      <td>8.946993e+09</td>\n",
       "      <td>2.405226e+10</td>\n",
       "      <td>21606.982419</td>\n",
       "    </tr>\n",
       "    <tr>\n",
       "      <th>Nov</th>\n",
       "      <td>247706</td>\n",
       "      <td>821.9</td>\n",
       "      <td>7.303530e+09</td>\n",
       "      <td>9.393120e+09</td>\n",
       "      <td>2.515034e+10</td>\n",
       "      <td>32004.941443</td>\n",
       "    </tr>\n",
       "    <tr>\n",
       "      <th>Oct</th>\n",
       "      <td>283934</td>\n",
       "      <td>891.7</td>\n",
       "      <td>3.810980e+09</td>\n",
       "      <td>4.700359e+09</td>\n",
       "      <td>1.174673e+10</td>\n",
       "      <td>50386.673101</td>\n",
       "    </tr>\n",
       "    <tr>\n",
       "      <th>Sep</th>\n",
       "      <td>253729</td>\n",
       "      <td>776.6</td>\n",
       "      <td>3.392565e+09</td>\n",
       "      <td>4.051725e+09</td>\n",
       "      <td>9.131084e+09</td>\n",
       "      <td>23382.021837</td>\n",
       "    </tr>\n",
       "  </tbody>\n",
       "</table>\n",
       "</div>"
      ],
      "text/plain": [
       "             start_year  averagerating  production_budget  domestic_gross  \\\n",
       "start_month                                                                 \n",
       "Apr              159084          487.9       3.584700e+09    5.381209e+09   \n",
       "Aug              221502          676.6       4.085870e+09    5.169591e+09   \n",
       "Dec              326234          989.3       6.656300e+09    8.800148e+09   \n",
       "Feb              173236          501.0       3.856140e+09    5.585865e+09   \n",
       "Jan              118827          332.0       1.878827e+09    2.196457e+09   \n",
       "Jul              213465          661.6       6.486255e+09    8.538119e+09   \n",
       "Jun              217533          682.2       7.727392e+09    1.071311e+10   \n",
       "Mar              229631          706.7       6.425540e+09    7.587076e+09   \n",
       "May              187325          579.7       7.549950e+09    8.946993e+09   \n",
       "Nov              247706          821.9       7.303530e+09    9.393120e+09   \n",
       "Oct              283934          891.7       3.810980e+09    4.700359e+09   \n",
       "Sep              253729          776.6       3.392565e+09    4.051725e+09   \n",
       "\n",
       "             worldwide_gross           ROI  \n",
       "start_month                                 \n",
       "Apr             1.419995e+10  19120.898668  \n",
       "Aug             1.113349e+10  25208.067397  \n",
       "Dec             2.162514e+10  25702.435973  \n",
       "Feb             1.228548e+10  23853.337738  \n",
       "Jan             4.219489e+09  26171.636346  \n",
       "Jul             2.269723e+10  78454.102588  \n",
       "Jun             2.736172e+10  31367.357922  \n",
       "Mar             1.805564e+10  21021.108972  \n",
       "May             2.405226e+10  21606.982419  \n",
       "Nov             2.515034e+10  32004.941443  \n",
       "Oct             1.174673e+10  50386.673101  \n",
       "Sep             9.131084e+09  23382.021837  "
      ]
     },
     "execution_count": 560,
     "metadata": {},
     "output_type": "execute_result"
    }
   ],
   "source": [
    "month_grouped"
   ]
  },
  {
   "cell_type": "markdown",
   "metadata": {},
   "source": [
    "I reorder the months so that they are in the correct chronological order."
   ]
  },
  {
   "cell_type": "code",
   "execution_count": 561,
   "metadata": {},
   "outputs": [],
   "source": [
    "#make start_month its own column by reseting the index\n",
    "month_grouped.reset_index(inplace=True)"
   ]
  },
  {
   "cell_type": "code",
   "execution_count": 562,
   "metadata": {},
   "outputs": [],
   "source": [
    "#set new month order\n",
    "order = [4, 8, 12, 2, 1, 7, 6, 3, 5, 11, 10, 9]\n",
    "\n",
    "#set index to the specified order and sort\n",
    "month_grouped.index = order\n",
    "month_grouped.sort_index(inplace=True)"
   ]
  },
  {
   "cell_type": "code",
   "execution_count": 563,
   "metadata": {},
   "outputs": [],
   "source": [
    "#set the index back to start_month\n",
    "month_grouped.set_index('start_month', inplace=True)"
   ]
  },
  {
   "cell_type": "code",
   "execution_count": 564,
   "metadata": {},
   "outputs": [],
   "source": [
    "#define function for format of gross profit y-axis ticks\n",
    "def gross_tick_format_3(x, pos):\n",
    "    new_format = '{}'.format(x / 10000000000)\n",
    "    return new_format"
   ]
  },
  {
   "cell_type": "code",
   "execution_count": 565,
   "metadata": {
    "scrolled": false
   },
   "outputs": [
    {
     "data": {
      "image/png": "[encoded data removed]",
      "text/plain": [
       "<Figure size 720x432 with 1 Axes>"
      ]
     },
     "metadata": {
      "needs_background": "light"
     },
     "output_type": "display_data"
    }
   ],
   "source": [
    "#plot bar chart of sum of gross profit by month\n",
    "ax = month_grouped.plot(kind='bar', y=['worldwide_gross'], figsize=(10,6));\n",
    "\n",
    "#remove legend and adjust title/labels/ticks\n",
    "ax.set_title('Sum of Gross Profit by Month (2010-2020)', fontsize=18);\n",
    "ax.get_legend().remove()\n",
    "ax.set_xlabel('Month', fontsize=16);\n",
    "ax.set_ylabel('($ billion)', fontsize=16);\n",
    "ax.yaxis.set_major_formatter(ticker.FuncFormatter(gross_tick_format_3))\n",
    "\n",
    "plt.xticks(fontsize=12, rotation=0);"
   ]
  },
  {
   "cell_type": "markdown",
   "metadata": {},
   "source": [
    "## Conclusions\n",
    " - **Invest in large budget movies in the animation, sci-fi, and adventure genres:** Larger budget movies produce higher profits and ratings. Animation, sci-fi, and adventure genres perform better than average in terms of gross profits.\n",
    " - **Fill out movie collection with lower budget mystery and horror films:** In addition to big budget movies, Microsoft will need to fill out its movie portfolio. Lower budget mystery and horror movies offer a great opportunity to do this as they can generate a substantial return on investment.\n",
    " - **Release new movies during the summer and holiday months:** May through July and November through December are the prime months for releasing new movies as people are taking time off for the summer and holidays."
   ]
  },
  {
   "cell_type": "markdown",
   "metadata": {},
   "source": [
    "## Next Steps\n",
    " - **Determine other factors impact ratings:** Most of this analysis focused on movie features that primarily effected profits. Future modeling should identifier factors that effect movie rating.\n",
    " - **Explore the impact of cast and crew on movie success:** This analysis could identify which cast and crew positions (e.g. directors, actors, writers) are most crucial to the the success of a movie.\n",
    " - **Analyze the influence that streaming platforms have had on box office returns:** In recent years, streaming platforms have become more prevalent. Looking at the overall trend of box office gross profits could lend insight into the impact streaming has had on the movie industry."
   ]
  }
 ],
 "metadata": {
  "kernelspec": {
   "display_name": "Python 3",
   "language": "python",
   "name": "python3"
  },
  "language_info": {
   "codemirror_mode": {
    "name": "ipython",
    "version": 3
   },
   "file_extension": ".py",
   "mimetype": "text/x-python",
   "name": "python",
   "nbconvert_exporter": "python",
   "pygments_lexer": "ipython3",
   "version": "3.8.5"
  },
  "toc": {
   "base_numbering": 1,
   "nav_menu": {},
   "number_sections": true,
   "sideBar": true,
   "skip_h1_title": false,
   "title_cell": "Table of Contents",
   "title_sidebar": "Contents",
   "toc_cell": false,
   "toc_position": {
    "height": "calc(100% - 180px)",
    "left": "10px",
    "top": "150px",
    "width": "349.091px"
   },
   "toc_section_display": true,
   "toc_window_display": false
  }
 },
 "nbformat": 4,
 "nbformat_minor": 2
}
